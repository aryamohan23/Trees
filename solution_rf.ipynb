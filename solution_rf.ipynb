{
 "cells": [
  {
   "cell_type": "markdown",
   "metadata": {},
   "source": [
    "# Random Forests"
   ]
  },
  {
   "cell_type": "code",
   "execution_count": 1,
   "metadata": {},
   "outputs": [
    {
     "name": "stderr",
     "output_type": "stream",
     "text": [
      "//anaconda/envs/py3l/lib/python3.6/site-packages/matplotlib/__init__.py:855: MatplotlibDeprecationWarning: \n",
      "examples.directory is deprecated; in the future, examples will be found relative to the 'datapath' directory.\n",
      "  \"found relative to the 'datapath' directory.\".format(key))\n",
      "//anaconda/envs/py3l/lib/python3.6/site-packages/matplotlib/__init__.py:846: MatplotlibDeprecationWarning: \n",
      "The text.latex.unicode rcparam was deprecated in Matplotlib 2.2 and will be removed in 3.1.\n",
      "  \"2.2\", name=key, obj_type=\"rcparam\", addendum=addendum)\n"
     ]
    }
   ],
   "source": [
    "%matplotlib inline\n",
    "import numpy as np\n",
    "import scipy as sp\n",
    "import matplotlib as mpl\n",
    "import matplotlib.cm as cm\n",
    "import matplotlib.pyplot as plt\n",
    "import pandas as pd\n",
    "pd.set_option('display.width', 500)\n",
    "pd.set_option('display.max_columns', 100)\n",
    "pd.set_option('display.notebook_repr_html', True)\n",
    "import seaborn.apionly as sns\n",
    "sns.set_style(\"whitegrid\")\n",
    "sns.set_context(\"poster\")"
   ]
  },
  {
   "cell_type": "markdown",
   "metadata": {},
   "source": [
    "## Dataset\n",
    "\n",
    "First, the data. We will be attempting to predict the presidential election results (at the county level) from 2016, measured as 'votergap' = (trump - clinton) in percentage points, based mostly on demographic features of those counties.  Let's quick take a peak at the data:"
   ]
  },
  {
   "cell_type": "code",
   "execution_count": 2,
   "metadata": {},
   "outputs": [
    {
     "data": {
      "text/html": [
       "<div>\n",
       "<style scoped>\n",
       "    .dataframe tbody tr th:only-of-type {\n",
       "        vertical-align: middle;\n",
       "    }\n",
       "\n",
       "    .dataframe tbody tr th {\n",
       "        vertical-align: top;\n",
       "    }\n",
       "\n",
       "    .dataframe thead th {\n",
       "        text-align: right;\n",
       "    }\n",
       "</style>\n",
       "<table border=\"1\" class=\"dataframe\">\n",
       "  <thead>\n",
       "    <tr style=\"text-align: right;\">\n",
       "      <th></th>\n",
       "      <th>state</th>\n",
       "      <th>fipscode</th>\n",
       "      <th>county</th>\n",
       "      <th>population</th>\n",
       "      <th>hispanic</th>\n",
       "      <th>minority</th>\n",
       "      <th>female</th>\n",
       "      <th>unemployed</th>\n",
       "      <th>income</th>\n",
       "      <th>nodegree</th>\n",
       "      <th>bachelor</th>\n",
       "      <th>inactivity</th>\n",
       "      <th>obesity</th>\n",
       "      <th>density</th>\n",
       "      <th>cancer</th>\n",
       "      <th>votergap</th>\n",
       "      <th>trump</th>\n",
       "      <th>clinton</th>\n",
       "    </tr>\n",
       "  </thead>\n",
       "  <tbody>\n",
       "    <tr>\n",
       "      <th>0</th>\n",
       "      <td>Colorado</td>\n",
       "      <td>8117</td>\n",
       "      <td>Summit County</td>\n",
       "      <td>27239</td>\n",
       "      <td>15.173</td>\n",
       "      <td>4.918</td>\n",
       "      <td>45.996</td>\n",
       "      <td>2.5</td>\n",
       "      <td>68352</td>\n",
       "      <td>5.4</td>\n",
       "      <td>48.1</td>\n",
       "      <td>8.1</td>\n",
       "      <td>13.1</td>\n",
       "      <td>46.0</td>\n",
       "      <td>46.2</td>\n",
       "      <td>-27.632</td>\n",
       "      <td>31.530</td>\n",
       "      <td>59.162</td>\n",
       "    </tr>\n",
       "    <tr>\n",
       "      <th>1</th>\n",
       "      <td>Colorado</td>\n",
       "      <td>8037</td>\n",
       "      <td>Eagle County</td>\n",
       "      <td>53653</td>\n",
       "      <td>30.040</td>\n",
       "      <td>5.169</td>\n",
       "      <td>47.231</td>\n",
       "      <td>3.1</td>\n",
       "      <td>76661</td>\n",
       "      <td>10.1</td>\n",
       "      <td>47.3</td>\n",
       "      <td>9.4</td>\n",
       "      <td>11.8</td>\n",
       "      <td>31.0</td>\n",
       "      <td>47.1</td>\n",
       "      <td>-19.897</td>\n",
       "      <td>36.058</td>\n",
       "      <td>55.955</td>\n",
       "    </tr>\n",
       "    <tr>\n",
       "      <th>2</th>\n",
       "      <td>Idaho</td>\n",
       "      <td>16067</td>\n",
       "      <td>Minidoka County</td>\n",
       "      <td>19226</td>\n",
       "      <td>34.070</td>\n",
       "      <td>5.611</td>\n",
       "      <td>49.318</td>\n",
       "      <td>3.7</td>\n",
       "      <td>46332</td>\n",
       "      <td>24.1</td>\n",
       "      <td>11.8</td>\n",
       "      <td>18.3</td>\n",
       "      <td>34.2</td>\n",
       "      <td>80.0</td>\n",
       "      <td>61.8</td>\n",
       "      <td>54.148</td>\n",
       "      <td>71.135</td>\n",
       "      <td>16.987</td>\n",
       "    </tr>\n",
       "    <tr>\n",
       "      <th>3</th>\n",
       "      <td>Colorado</td>\n",
       "      <td>8113</td>\n",
       "      <td>San Miguel County</td>\n",
       "      <td>7558</td>\n",
       "      <td>10.154</td>\n",
       "      <td>4.747</td>\n",
       "      <td>46.808</td>\n",
       "      <td>3.7</td>\n",
       "      <td>59603</td>\n",
       "      <td>4.7</td>\n",
       "      <td>54.4</td>\n",
       "      <td>12.4</td>\n",
       "      <td>16.7</td>\n",
       "      <td>5.7</td>\n",
       "      <td>62.6</td>\n",
       "      <td>-44.769</td>\n",
       "      <td>23.892</td>\n",
       "      <td>68.662</td>\n",
       "    </tr>\n",
       "    <tr>\n",
       "      <th>4</th>\n",
       "      <td>Utah</td>\n",
       "      <td>49051</td>\n",
       "      <td>Wasatch County</td>\n",
       "      <td>21600</td>\n",
       "      <td>13.244</td>\n",
       "      <td>4.125</td>\n",
       "      <td>48.812</td>\n",
       "      <td>3.4</td>\n",
       "      <td>65207</td>\n",
       "      <td>9.5</td>\n",
       "      <td>34.4</td>\n",
       "      <td>13.9</td>\n",
       "      <td>23.0</td>\n",
       "      <td>257.8</td>\n",
       "      <td>68.3</td>\n",
       "      <td>25.357</td>\n",
       "      <td>50.471</td>\n",
       "      <td>25.114</td>\n",
       "    </tr>\n",
       "  </tbody>\n",
       "</table>\n",
       "</div>"
      ],
      "text/plain": [
       "      state  fipscode             county  population  hispanic  minority  female  unemployed  income  nodegree  bachelor  inactivity  obesity  density  cancer  votergap   trump  clinton\n",
       "0  Colorado      8117      Summit County       27239    15.173     4.918  45.996         2.5   68352       5.4      48.1         8.1     13.1     46.0    46.2   -27.632  31.530   59.162\n",
       "1  Colorado      8037       Eagle County       53653    30.040     5.169  47.231         3.1   76661      10.1      47.3         9.4     11.8     31.0    47.1   -19.897  36.058   55.955\n",
       "2     Idaho     16067    Minidoka County       19226    34.070     5.611  49.318         3.7   46332      24.1      11.8        18.3     34.2     80.0    61.8    54.148  71.135   16.987\n",
       "3  Colorado      8113  San Miguel County        7558    10.154     4.747  46.808         3.7   59603       4.7      54.4        12.4     16.7      5.7    62.6   -44.769  23.892   68.662\n",
       "4      Utah     49051     Wasatch County       21600    13.244     4.125  48.812         3.4   65207       9.5      34.4        13.9     23.0    257.8    68.3    25.357  50.471   25.114"
      ]
     },
     "execution_count": 2,
     "metadata": {},
     "output_type": "execute_result"
    }
   ],
   "source": [
    "elect_df = pd.read_csv(\"data/county_level_election.csv\")\n",
    "elect_df.head()"
   ]
  },
  {
   "cell_type": "code",
   "execution_count": 3,
   "metadata": {
    "collapsed": true
   },
   "outputs": [],
   "source": [
    "from sklearn.model_selection import train_test_split"
   ]
  },
  {
   "cell_type": "code",
   "execution_count": 16,
   "metadata": {
    "collapsed": true
   },
   "outputs": [],
   "source": [
    "# split 80/20 train-test\n",
    "Xdf = elect_df[['population','hispanic','minority','female','unemployed','income','nodegree','bachelor','inactivity','obesity','density','cancer']]\n",
    "response = elect_df['votergap']\n",
    "Xtraindf, Xtestdf, ytrain, ytest = train_test_split(Xdf, response, test_size=0.2, random_state=1983)\n"
   ]
  },
  {
   "cell_type": "markdown",
   "metadata": {},
   "source": [
    "## Random Forests\n",
    "\n",
    "What's the basic idea?\n",
    "\n",
    "Bagging alone is not enough randomization, because even after bootstrapping, we are mainly training on the same data points using the same variablesn, and will retain much of the overfitting.\n",
    "\n",
    "So we will build each tree by splitting on \"random\" subset of predictors at each split (hence, each is a 'random tree').  This can't be done in with just one predcitor, but with more predictors we can choose what predictors to split on randomly and how many to do this on.  Then we combine many 'random trees' together by averaging their predictions, and this gets us a forest of random trees: a **random forest**."
   ]
  },
  {
   "cell_type": "markdown",
   "metadata": {},
   "source": [
    "Below we create a hyper-param Grid. We are preparing to use the bootstrap points not used in training for validation.\n",
    "\n",
    "```\n",
    "max_features : int, float, string or None, optional (default=”auto”)\n",
    "- The number of features to consider when looking for the best split.\n",
    "```\n",
    "\n",
    "- `max_features`: Default splits on all the features and is probably prone to overfitting. You'll want to validate on this. \n",
    "- You can \"validate\" on the trees `n_estimators` as well but many a times you will just look for the plateau in the trees as seen below.\n",
    "- From decision trees you get the `max_depth`, `min_samples_split`, and `min_samples_leaf` as well but you could leave those at defaults to get a maximally expanded tree as adding multiple trees will squeeze out the variance."
   ]
  },
  {
   "cell_type": "code",
   "execution_count": 17,
   "metadata": {
    "collapsed": true
   },
   "outputs": [],
   "source": [
    "from sklearn.ensemble import RandomForestRegressor"
   ]
  },
  {
   "cell_type": "markdown",
   "metadata": {},
   "source": [
    "We'll use itertools product to simulare what the param-grid in cross-validate does for us."
   ]
  },
  {
   "cell_type": "code",
   "execution_count": 18,
   "metadata": {},
   "outputs": [
    {
     "data": {
      "text/plain": [
       "[(400, 0.2),\n",
       " (400, 0.4),\n",
       " (400, 0.6),\n",
       " (400, 0.8),\n",
       " (600, 0.2),\n",
       " (600, 0.4),\n",
       " (600, 0.6),\n",
       " (600, 0.8),\n",
       " (800, 0.2),\n",
       " (800, 0.4),\n",
       " (800, 0.6),\n",
       " (800, 0.8)]"
      ]
     },
     "execution_count": 18,
     "metadata": {},
     "output_type": "execute_result"
    }
   ],
   "source": [
    "# code from \n",
    "# Adventures in scikit-learn's Random Forest by Gregory Saunders\n",
    "from itertools import product\n",
    "from collections import OrderedDict\n",
    "param_dict = OrderedDict(\n",
    "    n_estimators = [400, 600, 800],\n",
    "    max_features = [0.2, 0.4, 0.6, 0.8]\n",
    ")\n",
    "\n",
    "param_dict.values()\n",
    "\n",
    "list(product(*param_dict.values()))"
   ]
  },
  {
   "cell_type": "markdown",
   "metadata": {},
   "source": [
    "### Using the OOB score.\n",
    "\n",
    "Why did we play with `itertools.product`?\n",
    "\n",
    "We have been putting \"validate\" in quotes. This is because the bootstrap gives us left-over points! So we'll now engage in our very own version of a grid-search, done over the out-of-bag scores that `sklearn` gives us for free"
   ]
  },
  {
   "cell_type": "markdown",
   "metadata": {},
   "source": [
    "EXERCISE\n",
    "\n",
    "With the \"validation\" based on left out samples from the bootstrap, cross-validate and find the "
   ]
  },
  {
   "cell_type": "code",
   "execution_count": 19,
   "metadata": {},
   "outputs": [
    {
     "data": {
      "text/plain": [
       "(800, 0.6)"
      ]
     },
     "execution_count": 19,
     "metadata": {},
     "output_type": "execute_result"
    }
   ],
   "source": [
    "#make sure ytrain is the correct data type...in case you have warnings\n",
    "#print(yytrain.shape,ytrain.shape,Xtrain.shape)\n",
    "#ytrain = np.ravel(ytrain)\n",
    "\n",
    "#Let's Cross-val. on the two 'hyperparameters' we based our grid on earlier\n",
    "results = {}\n",
    "estimators= {}\n",
    "for ntrees, maxf in product(*param_dict.values()):\n",
    "    params = (ntrees, maxf)\n",
    "    est = RandomForestRegressor(oob_score=True, \n",
    "                                n_estimators=ntrees, max_features=maxf, max_depth=50, n_jobs=-1)\n",
    "    est.fit(Xtraindf, ytrain)\n",
    "    results[params] = est.oob_score_\n",
    "    estimators[params] = est\n",
    "outparams = max(results, key = results.get)\n",
    "outparams"
   ]
  },
  {
   "cell_type": "code",
   "execution_count": 26,
   "metadata": {
    "collapsed": true
   },
   "outputs": [],
   "source": [
    "rf1 = estimators[outparams]"
   ]
  },
  {
   "cell_type": "code",
   "execution_count": 27,
   "metadata": {},
   "outputs": [
    {
     "data": {
      "text/plain": [
       "{(400, 0.2): 0.75545034159631475,\n",
       " (400, 0.4): 0.76904520627814343,\n",
       " (400, 0.6): 0.7714063389285728,\n",
       " (400, 0.8): 0.77093228908586808,\n",
       " (600, 0.2): 0.75389417406993875,\n",
       " (600, 0.4): 0.77059680071750347,\n",
       " (600, 0.6): 0.77163543964275172,\n",
       " (600, 0.8): 0.77293158741686452,\n",
       " (800, 0.2): 0.75642142962369552,\n",
       " (800, 0.4): 0.77153354385823691,\n",
       " (800, 0.6): 0.77302008538924816,\n",
       " (800, 0.8): 0.77211871587521286}"
      ]
     },
     "execution_count": 27,
     "metadata": {},
     "output_type": "execute_result"
    }
   ],
   "source": [
    "results"
   ]
  },
  {
   "cell_type": "code",
   "execution_count": 28,
   "metadata": {},
   "outputs": [
    {
     "data": {
      "text/plain": [
       "0.77953336933057904"
      ]
     },
     "execution_count": 28,
     "metadata": {},
     "output_type": "execute_result"
    }
   ],
   "source": [
    "rf1.score(Xtest, ytest)"
   ]
  },
  {
   "cell_type": "markdown",
   "metadata": {},
   "source": [
    "Finally you can find the **feature importance** of each predictor in this random forest model. Whenever a feature is used in a tree in the forest, the algorithm will log the decrease in the splitting criterion (such as gini). This is accumulated over all trees and reported in `est.feature_importances_`"
   ]
  },
  {
   "cell_type": "code",
   "execution_count": 29,
   "metadata": {},
   "outputs": [
    {
     "data": {
      "text/plain": [
       "<matplotlib.axes._subplots.AxesSubplot at 0x11f2a4e48>"
      ]
     },
     "execution_count": 29,
     "metadata": {},
     "output_type": "execute_result"
    },
    {
     "data": {
      "image/png": "[encoded data removed]",
      "text/plain": [
       "<matplotlib.figure.Figure at 0x11f90a1d0>"
      ]
     },
     "metadata": {},
     "output_type": "display_data"
    }
   ],
   "source": [
    "pd.Series(rf1.feature_importances_,index=list(Xtrain)).sort_values().plot(kind=\"barh\")"
   ]
  },
  {
   "cell_type": "markdown",
   "metadata": {},
   "source": [
    "Since our response isn't very symmetric, we may want to suppress outliers by using the `mean_absolute_error` instead. "
   ]
  },
  {
   "cell_type": "markdown",
   "metadata": {},
   "source": [
    "Note: instead of using oob scoring, we could do cross-validation (with GridSearchCV), and a cv of 3 will roughly be comparable (same approximate train-vs.-validation set sizes). But this will take much more time as you are doing the fit 3 times plus the bootstraps. So at least three times as long!"
   ]
  },
  {
   "cell_type": "markdown",
   "metadata": {},
   "source": [
    "### Exercise\n",
    "\n",
    "1. What are the 3 *hyperparameters* for a random forest (one of the hyperparameters come in many *flavors*)?\n",
    "2. Which hyperparameters need to be tuned? \n",
    "\n",
    "**Answers**\n",
    "1. The 3 hyperparameters are `max_features`,  `max_depth` (or something related, like `min_samples_split`, so control the complexity of each tree), and `n_estimators` (in classification, the splitting criteria is another one you could consider)\n",
    "\n",
    "2. `max_features` and  `max_depth` need to be tuned, while the higher `n_estimators` the better (though there is clearly diminishing return, so just use someting 'largish' in the hundreds).  The best tuned `max_features` and `max_depth` will depend on the number of predictors you are considering, the number of observations in the training set, and whether it is a regression or a classification problem.  There are lots of rules of thumb out there, but cross-validate if you can."
   ]
  },
  {
   "cell_type": "markdown",
   "metadata": {},
   "source": [
    "### Seeing error as a function of the proportion of predictors at each split\n",
    "\n",
    "Let's look to see how `max_features` affects performance on the training set."
   ]
  },
  {
   "cell_type": "code",
   "execution_count": 21,
   "metadata": {
    "collapsed": true
   },
   "outputs": [],
   "source": [
    "# from http://scikit-learn.org/stable/auto_examples/ensemble/plot_ensemble_oob.html\n",
    "\n",
    "feats = param_dict['max_features']\n",
    "# \n",
    "error_rate = OrderedDict((label, []) for label in feats)\n",
    "\n",
    "# Range of `n_estimators` values to explore.\n",
    "min_estimators = 200\n",
    "step_estimators = 100\n",
    "num_steps = 6\n",
    "max_estimators = min_estimators + step_estimators*num_steps\n",
    "for label in feats:\n",
    "    for i in range(min_estimators, max_estimators+1, step_estimators):\n",
    "        clf = RandomForestRegressor(oob_score=True, max_features=label)\n",
    "        clf.set_params(n_estimators=i)\n",
    "        clf.fit(Xtraindf, ytrain)\n",
    "\n",
    "        # Record the OOB error for each `n_estimators=i` setting.\n",
    "        oob_error = 1 - clf.oob_score_\n",
    "        error_rate[label].append((i, oob_error))"
   ]
  },
  {
   "cell_type": "code",
   "execution_count": 56,
   "metadata": {},
   "outputs": [
    {
     "name": "stdout",
     "output_type": "stream",
     "text": [
      "[0.2, 0.4, 0.6, 0.8]\n"
     ]
    }
   ],
   "source": [
    "print(feats)"
   ]
  },
  {
   "cell_type": "code",
   "execution_count": 57,
   "metadata": {},
   "outputs": [
    {
     "data": {
      "image/png": "[encoded data removed]",
      "text/plain": [
       "<matplotlib.figure.Figure at 0x11ea1b198>"
      ]
     },
     "metadata": {},
     "output_type": "display_data"
    }
   ],
   "source": [
    "# Generate the \"OOB error rate\" vs. \"n_estimators\" plot.\n",
    "for label, clf_err in error_rate.items():\n",
    "    xs, ys = zip(*clf_err)\n",
    "    plt.plot(xs, ys, label=label)\n",
    "\n",
    "plt.xlim(min_estimators, max_estimators)\n",
    "plt.xlabel(\"n_estimators\")\n",
    "plt.ylabel(\"OOB error rate\")\n",
    "plt.legend(loc=\"upper right\")\n",
    "plt.show()"
   ]
  },
  {
   "cell_type": "markdown",
   "metadata": {},
   "source": [
    "---"
   ]
  }
 ],
 "metadata": {
  "kernelspec": {
   "display_name": "Python 3",
   "language": "python",
   "name": "python3"
  },
  "language_info": {
   "codemirror_mode": {
    "name": "ipython",
    "version": 3
   },
   "file_extension": ".py",
   "mimetype": "text/x-python",
   "name": "python",
   "nbconvert_exporter": "python",
   "pygments_lexer": "ipython3",
   "version": "3.7.3"
  }
 },
 "nbformat": 4,
 "nbformat_minor": 2
}
